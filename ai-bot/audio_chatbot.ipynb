{
 "nbformat": 4,
 "nbformat_minor": 0,
 "metadata": {
  "colab": {
   "provenance": []
  },
  "kernelspec": {
   "name": "python3",
   "language": "python",
   "display_name": "Python 3 (ipykernel)"
  },
  "language_info": {
   "name": "python"
  }
 },
 "cells": [
  {
   "cell_type": "code",
   "execution_count": 1,
   "metadata": {
    "colab": {
     "base_uri": "https://localhost:8080/"
    },
    "id": "ZfB8fIuijnlZ",
    "outputId": "5d59c4a0-6e3d-44f4-bb09-d8ab1cc73a02",
    "ExecuteTime": {
     "start_time": "2023-04-20T10:03:31.154081Z",
     "end_time": "2023-04-20T10:05:07.619041Z"
    }
   },
   "outputs": [],
   "source": [
    "!pip install -q git+https://github.com/openai/whisper.git\n",
    "!pip install -q gradio\n",
    "!pip install -q openai\n",
    "!pip install -q gTTS"
   ]
  },
  {
   "cell_type": "code",
   "source": [
    "import whisper\n",
    "import gradio as gr \n",
    "import time\n",
    "import warnings\n",
    "import json\n",
    "import openai\n",
    "import os\n",
    "from gtts import gTTS"
   ],
   "metadata": {
    "id": "0AteJDDQjvn1",
    "ExecuteTime": {
     "start_time": "2023-04-20T10:11:14.232999Z",
     "end_time": "2023-04-20T10:11:14.333275Z"
    },
    "pycharm": {
     "is_executing": true
    }
   },
   "execution_count": null,
   "outputs": []
  },
  {
   "cell_type": "code",
   "source": [
    "warnings.filterwarnings(\"ignore\")"
   ],
   "metadata": {
    "id": "l5O77VEnjwdY",
    "pycharm": {
     "is_executing": true
    }
   },
   "execution_count": null,
   "outputs": []
  },
  {
   "cell_type": "code",
   "source": [
    "secret_tocken = \"\""
   ],
   "metadata": {
    "id": "9XH1hK_PjyzD",
    "pycharm": {
     "is_executing": true
    }
   },
   "execution_count": null,
   "outputs": []
  },
  {
   "cell_type": "code",
   "source": [
    "\n",
    "model = whisper.load_model(\"base\")"
   ],
   "metadata": {
    "colab": {
     "base_uri": "https://localhost:8080/"
    },
    "id": "37YffrdXjzHW",
    "outputId": "fcad76dd-4387-4156-dd43-0eac6e418180",
    "pycharm": {
     "is_executing": true
    }
   },
   "execution_count": null,
   "outputs": []
  },
  {
   "cell_type": "code",
   "source": [
    "model.device"
   ],
   "metadata": {
    "colab": {
     "base_uri": "https://localhost:8080/"
    },
    "id": "sa4_xzsRjzJ-",
    "outputId": "750ede20-b167-4ac0-e130-737db0ee64f6",
    "pycharm": {
     "is_executing": true
    }
   },
   "execution_count": null,
   "outputs": []
  },
  {
   "cell_type": "code",
   "source": [
    "!ffmpeg -f lavfi -i anullsrc=r=44100:cl=mono -t 10 -q:a 9 -acodec libmp3lame Temp.mp3"
   ],
   "metadata": {
    "colab": {
     "base_uri": "https://localhost:8080/"
    },
    "id": "B-PGNiB8jzPB",
    "outputId": "f239dbb0-b761-4917-bdb0-785afa790143",
    "pycharm": {
     "is_executing": true
    }
   },
   "execution_count": null,
   "outputs": []
  },
  {
   "cell_type": "code",
   "source": [
    "def chatgpt_api(input_text):\n",
    "    messages = [\n",
    "    {\"role\": \"system\", \"content\": \"You are a helpful assistant.\"}]\n",
    "    \n",
    "    if input_text:\n",
    "        messages.append(\n",
    "            {\"role\": \"user\", \"content\": input_text},\n",
    "        )\n",
    "        chat_completion = openai.ChatCompletion.create(\n",
    "            model=\"gpt-3.5-turbo\", messages=messages\n",
    "        )\n",
    "    \n",
    "    reply = chat_completion.choices[0].message.content\n",
    "    return reply"
   ],
   "metadata": {
    "id": "3GsCoE2WkBVX",
    "pycharm": {
     "is_executing": true
    }
   },
   "execution_count": null,
   "outputs": []
  },
  {
   "cell_type": "code",
   "source": [
    "def transcribe(audio):\n",
    "\n",
    "    language = 'en'\n",
    "\n",
    "    audio = whisper.load_audio(audio)\n",
    "    audio = whisper.pad_or_trim(audio)\n",
    "\n",
    "    mel = whisper.log_mel_spectrogram(audio).to(model.device)\n",
    "\n",
    "    _, probs = model.detect_language(mel)\n",
    "\n",
    "    options = whisper.DecodingOptions()\n",
    "    result = whisper.decode(model, mel, options)\n",
    "    result_text = result.text\n",
    "    \n",
    "    out_result = chatgpt_api(result_text)\n",
    "    \n",
    "    audioobj = gTTS(text = out_result, \n",
    "                    lang = language, \n",
    "                    slow = False)\n",
    "    \n",
    "    audioobj.save(\"Temp.mp3\")\n",
    "\n",
    "    return [result_text, out_result, \"Temp.mp3\"]"
   ],
   "metadata": {
    "id": "wIfC0UEckBYX",
    "pycharm": {
     "is_executing": true
    }
   },
   "execution_count": null,
   "outputs": []
  },
  {
   "cell_type": "code",
   "source": [
    "output_1 = gr.Textbox(label=\"Speech to Text\")\n",
    "output_2 = gr.Textbox(label=\"ChatGPT Output\")\n",
    "output_3 = gr.Audio(\"Temp.mp3\")\n",
    "\n",
    "gr.Interface(\n",
    "    title = 'OpenAI Whisper and ChatGPT ASR Gradio Web UI', \n",
    "    fn=transcribe, \n",
    "    inputs=[\n",
    "        gr.inputs.Audio(source=\"microphone\", type=\"filepath\")\n",
    "    ],\n",
    "\n",
    "    outputs=[\n",
    "        output_1,  output_2, output_3\n",
    "    ],\n",
    "    live=True).launch()"
   ],
   "metadata": {
    "colab": {
     "base_uri": "https://localhost:8080/",
     "height": 616
    },
    "id": "2Yz0aYJykBa9",
    "outputId": "aed612d6-8a54-4d19-ec43-715e9e69ac32",
    "pycharm": {
     "is_executing": true
    }
   },
   "execution_count": null,
   "outputs": []
  }
 ]
}
